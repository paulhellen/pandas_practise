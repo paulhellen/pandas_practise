{
 "cells": [
  {
   "cell_type": "code",
   "execution_count": 2,
   "id": "f9423b30-141a-4f5d-855c-4c23cdd8ab06",
   "metadata": {},
   "outputs": [],
   "source": [
    "import pandas as pd\n",
    "import seaborn as sn\n",
    "import matplotlib.pyplot as plt\n",
    "import numpy as np"
   ]
  },
  {
   "cell_type": "code",
   "execution_count": 3,
   "id": "bcc7d07e-80b0-4268-a43e-fdd6f9958a5d",
   "metadata": {},
   "outputs": [
    {
     "name": "stdout",
     "output_type": "stream",
     "text": [
      "A    10\n",
      "B    20\n",
      "C    30\n",
      "D    40\n",
      "dtype: int64\n",
      "      Name  Age     City\n",
      "0    Alice   24  Nairobi\n",
      "1      Bob   27  Mombasa\n",
      "2  Charlie   22   Kisumu\n"
     ]
    }
   ],
   "source": [
    "            # Creating a Series\n",
    "            data = pd.Series([10, 20, 30, 40], index=['A', 'B', 'C', 'D'])\n",
    "            print(data)\n",
    "\n",
    "            # Creating a DataFrame\n",
    "            data_dict = {'Name': ['Alice', 'Bob', 'Charlie'],\n",
    "                        'Age': [24, 27, 22],\n",
    "                        'City': ['Nairobi', 'Mombasa', 'Kisumu']}\n",
    "            df = pd.DataFrame(data_dict)\n",
    "            print(df)"
   ]
  },
  {
   "cell_type": "code",
   "execution_count": null,
   "id": "a74f1ca9-56fd-4bf3-a22a-898a9cb98060",
   "metadata": {},
   "outputs": [],
   "source": [
    "# Loading a CSV file\n",
    "            df = pd.read_csv('data.csv')\n",
    "\n",
    "            # Inspecting the dataset\n",
    "            print(df.head())       # First 5 rows\n",
    "            print(df.info())       # Information on columns and data types\n",
    "            print(df.describe())   # Summary statistics for numeric columns"
   ]
  },
  {
   "cell_type": "code",
   "execution_count": null,
   "id": "6f547931-3697-4ba8-a730-972741bdc066",
   "metadata": {},
   "outputs": [],
   "source": []
  }
 ],
 "metadata": {
  "kernelspec": {
   "display_name": "Python 3 (ipykernel)",
   "language": "python",
   "name": "python3"
  },
  "language_info": {
   "codemirror_mode": {
    "name": "ipython",
    "version": 3
   },
   "file_extension": ".py",
   "mimetype": "text/x-python",
   "name": "python",
   "nbconvert_exporter": "python",
   "pygments_lexer": "ipython3",
   "version": "3.13.5"
  }
 },
 "nbformat": 4,
 "nbformat_minor": 5
}
